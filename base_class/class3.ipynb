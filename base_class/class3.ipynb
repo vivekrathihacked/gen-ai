{
 "cells": [
  {
   "cell_type": "code",
   "execution_count": 5,
   "metadata": {},
   "outputs": [
    {
     "name": "stdout",
     "output_type": "stream",
     "text": [
      "2\n",
      "3\n",
      "4\n",
      "5\n",
      "6\n",
      "7\n",
      "8\n",
      "9\n",
      "10\n",
      "11\n"
     ]
    }
   ],
   "source": [
    "a = 1\n",
    "while a <= 10:\n",
    "    a += 1\n",
    "    print(a)"
   ]
  },
  {
   "cell_type": "code",
   "execution_count": 9,
   "metadata": {},
   "outputs": [
    {
     "name": "stdout",
     "output_type": "stream",
     "text": [
      "infinite\n"
     ]
    }
   ],
   "source": [
    "age = 3\n",
    "\n",
    "while True:\n",
    "    print('infinite')\n",
    "    break"
   ]
  },
  {
   "cell_type": "code",
   "execution_count": 26,
   "metadata": {},
   "outputs": [
    {
     "name": "stdout",
     "output_type": "stream",
     "text": [
      "outter loop--->1\n",
      "outter loop--->2\n",
      "outter loop--->3\n",
      "outter loop--->4\n",
      "outter loop--->5\n",
      "count---5\n",
      "continue stop using break\n",
      "outter loop--->6\n",
      "count---6\n",
      "hard stop using break\n"
     ]
    }
   ],
   "source": [
    "count = 0 \n",
    "\n",
    "while count <=10:\n",
    "    count = count + 1\n",
    "    print('outter loop--->' + str(count))\n",
    "    if count == 5:\n",
    "        print('count---' + str(count))\n",
    "        print(\"continue stop using break\")\n",
    "        continue\n",
    "    if count == 6:\n",
    "        print('count---' + str(count))\n",
    "        print(\"hard stop using break\")\n",
    "        break\n",
    "\n",
    "\n"
   ]
  },
  {
   "cell_type": "code",
   "execution_count": 27,
   "metadata": {},
   "outputs": [
    {
     "name": "stdout",
     "output_type": "stream",
     "text": [
      "before 1\n",
      "after 1\n",
      "before 2\n",
      "after 2\n",
      "before 3\n",
      "before 4\n",
      "after 4\n",
      "before 5\n",
      "after 5\n",
      "before 6\n",
      "after 6\n",
      "before 7\n",
      "after 7\n",
      "before 8\n",
      "after 8\n",
      "before 9\n",
      "after 9\n"
     ]
    }
   ],
   "source": [
    "i = 0\n",
    "while i < 9:\n",
    "  i += 1\n",
    "  print(\"before\",i)\n",
    "  if i == 3:\n",
    "    continue\n",
    "  print(\"after\",i)"
   ]
  },
  {
   "cell_type": "code",
   "execution_count": 31,
   "metadata": {},
   "outputs": [],
   "source": [
    "def loop_value(*args):\n",
    "    print([\"Even\" if i%2==0 else \"Odd\" for i in args])"
   ]
  },
  {
   "cell_type": "code",
   "execution_count": 34,
   "metadata": {},
   "outputs": [
    {
     "name": "stdout",
     "output_type": "stream",
     "text": [
      "['Even', 'Odd', 'Even', 'Odd', 'Even', 'Odd', 'Even', 'Odd', 'Even', 'Odd', 'Even', 'Odd']\n"
     ]
    }
   ],
   "source": [
    "loop_value(10,11,12,13,12,31,12,1,2,3,4,5)"
   ]
  },
  {
   "cell_type": "code",
   "execution_count": 42,
   "metadata": {},
   "outputs": [
    {
     "name": "stdout",
     "output_type": "stream",
     "text": [
      "[0, 2, 4, 6, 8]\n",
      "evens #####  [0, 2, 4, 6, 8]\n",
      "[1, 3, 5, 7, 9]\n",
      "evens #####  [1, 3, 5, 7, 9]\n"
     ]
    }
   ],
   "source": [
    "evens = [x for x in range(10) if x % 2 == 0]\n",
    "print([x for x in range(10) if x%2 == 0])\n",
    "print(\"evens ##### \", evens)\n",
    "odds = [x for x in range(10) if x % 2 != 0]\n",
    "print([x for x in range(10) if x%2 != 0])\n",
    "print(\"evens ##### \", odds)"
   ]
  },
  {
   "cell_type": "code",
   "execution_count": null,
   "metadata": {},
   "outputs": [],
   "source": [
    "def square(x):\n",
    "    return x ** 2\n",
    "\n",
    "squared_values = [square(x) for x in range(5)]"
   ]
  },
  {
   "cell_type": "code",
   "execution_count": 48,
   "metadata": {},
   "outputs": [
    {
     "name": "stdout",
     "output_type": "stream",
     "text": [
      "[0, 1, 4]\n"
     ]
    }
   ],
   "source": [
    "def sqr(x):\n",
    "    return x**2\n",
    "\n",
    "sqr_val = [sqr(i) for i in range(3)]\n",
    "print(sqr_val)"
   ]
  },
  {
   "cell_type": "code",
   "execution_count": 59,
   "metadata": {},
   "outputs": [
    {
     "name": "stdout",
     "output_type": "stream",
     "text": [
      "[[1, 2, 3], [4, 5, 6]]\n",
      "[[1, 4], [2, 5], [3, 6]]\n"
     ]
    }
   ],
   "source": [
    "matrix = [[1, 2, 3], [4, 5, 6]]\n",
    "print(matrix)\n",
    "transposed = [[row[i] for row in matrix] for i in range(len(matrix[0]))]\n",
    "print(transposed)"
   ]
  },
  {
   "cell_type": "code",
   "execution_count": 58,
   "metadata": {},
   "outputs": [
    {
     "name": "stdout",
     "output_type": "stream",
     "text": [
      "[(1, <class 'int'>), (2, <class 'int'>), (' ', <class 'str'>), (3, <class 'int'>), (4, <class 'int'>)]\n"
     ]
    }
   ],
   "source": [
    "data = [1, None, 2, \"\",\" \", 3, None, 4]\n",
    "data_cl = [(x,type(x)) for x in data if x]\n",
    "print(data_cl) "
   ]
  },
  {
   "cell_type": "code",
   "execution_count": null,
   "metadata": {},
   "outputs": [],
   "source": []
  }
 ],
 "metadata": {
  "kernelspec": {
   "display_name": "Python 3",
   "language": "python",
   "name": "python3"
  },
  "language_info": {
   "codemirror_mode": {
    "name": "ipython",
    "version": 3
   },
   "file_extension": ".py",
   "mimetype": "text/x-python",
   "name": "python",
   "nbconvert_exporter": "python",
   "pygments_lexer": "ipython3",
   "version": "3.11.10"
  }
 },
 "nbformat": 4,
 "nbformat_minor": 2
}
