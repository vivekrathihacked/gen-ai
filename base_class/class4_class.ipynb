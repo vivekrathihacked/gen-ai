{
 "cells": [
  {
   "cell_type": "code",
   "execution_count": 20,
   "metadata": {},
   "outputs": [],
   "source": [
    "# Define a class\n",
    "class Car:\n",
    "    # Class attribute (shared by all instances)\n",
    "    wheels = 4\n",
    "\n",
    "    # Constructor (called when an object is created)\n",
    "    def __init__(self, brand, model, year):\n",
    "        # Instance attributes (unique to each instance)\n",
    "        self.brand = brand\n",
    "        self.model = model\n",
    "        self.year = year\n",
    "\n",
    "    # Method to display car details\n",
    "    def display_info(self):\n",
    "        print(f\"{self.year} {self.brand} {self.model}\")\n",
    "\n",
    "    # Method with logic\n",
    "    def is_new(self):\n",
    "        return self.year >= 2022\n"
   ]
  },
  {
   "cell_type": "code",
   "execution_count": null,
   "metadata": {},
   "outputs": [],
   "source": [
    "class Bike:\n",
    "    wheel = 4\n",
    "\n",
    "    def __init__(self, brand, cc, year)\n",
    "    self.brand\n",
    "    self.cc\n",
    "    self.year\n",
    "\n",
    "    def "
   ]
  },
  {
   "cell_type": "code",
   "execution_count": 21,
   "metadata": {},
   "outputs": [],
   "source": [
    "# Create instances of the class\n",
    "car1 = Car(\"Toyota\", \"Camry\", 2023)\n",
    "car2 = Car(\"Honda\", \"Civic\", 2019)"
   ]
  },
  {
   "cell_type": "code",
   "execution_count": 24,
   "metadata": {},
   "outputs": [
    {
     "data": {
      "text/plain": [
       "4"
      ]
     },
     "execution_count": 24,
     "metadata": {},
     "output_type": "execute_result"
    }
   ],
   "source": [
    "Car.wheels\n",
    "car1.wheels"
   ]
  },
  {
   "cell_type": "code",
   "execution_count": 22,
   "metadata": {},
   "outputs": [
    {
     "name": "stdout",
     "output_type": "stream",
     "text": [
      "2023 Toyota Camry\n",
      "2019 Honda Civic\n"
     ]
    }
   ],
   "source": [
    "\n",
    "# Calling methods\n",
    "car1.display_info()  # 2023 Toyota Camry\n",
    "car2.display_info()  # 2023 Toyota Camry\n",
    "\n"
   ]
  },
  {
   "cell_type": "code",
   "execution_count": 27,
   "metadata": {},
   "outputs": [
    {
     "name": "stdout",
     "output_type": "stream",
     "text": [
      "8\n"
     ]
    }
   ],
   "source": [
    "class MathUtils:\n",
    "    @staticmethod\n",
    "    def add(x, y):\n",
    "        return x + y\n",
    "\n",
    "print(MathUtils.add(5, 3))  # 8"
   ]
  },
  {
   "cell_type": "code",
   "execution_count": 29,
   "metadata": {},
   "outputs": [
    {
     "name": "stdout",
     "output_type": "stream",
     "text": [
      "6.4\n"
     ]
    }
   ],
   "source": [
    "class Car:\n",
    "    wheels = 4\n",
    "\n",
    "    @classmethod\n",
    "    def change_wheel_count(cls, count):\n",
    "        cls.wheels = count\n",
    "\n",
    "# Modify class attribute\n",
    "Car.change_wheel_count(6.4)\n",
    "print(Car.wheels)  # 6"
   ]
  }
 ],
 "metadata": {
  "kernelspec": {
   "display_name": "Python 3",
   "language": "python",
   "name": "python3"
  },
  "language_info": {
   "codemirror_mode": {
    "name": "ipython",
    "version": 3
   },
   "file_extension": ".py",
   "mimetype": "text/x-python",
   "name": "python",
   "nbconvert_exporter": "python",
   "pygments_lexer": "ipython3",
   "version": "3.11.10"
  }
 },
 "nbformat": 4,
 "nbformat_minor": 2
}
