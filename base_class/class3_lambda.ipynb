{
 "cells": [
  {
   "cell_type": "code",
   "execution_count": 1,
   "metadata": {},
   "outputs": [],
   "source": [
    "c = lambda a,b : (a+b)"
   ]
  },
  {
   "cell_type": "code",
   "execution_count": 2,
   "metadata": {},
   "outputs": [
    {
     "name": "stdout",
     "output_type": "stream",
     "text": [
      "21\n"
     ]
    }
   ],
   "source": [
    "print(c(10,11))"
   ]
  },
  {
   "cell_type": "code",
   "execution_count": 13,
   "metadata": {},
   "outputs": [],
   "source": [
    "check = lambda *y : [(x,\" : Even\") if x%2 ==0 else (x,\" : Odd\") for x in y ]"
   ]
  },
  {
   "cell_type": "code",
   "execution_count": 14,
   "metadata": {},
   "outputs": [
    {
     "data": {
      "text/plain": [
       "[(10, ' : Even'), (11, ' : Odd'), (12, ' : Even'), (13, ' : Odd')]"
      ]
     },
     "execution_count": 14,
     "metadata": {},
     "output_type": "execute_result"
    }
   ],
   "source": [
    "check(10,11,12,13)"
   ]
  },
  {
   "cell_type": "code",
   "execution_count": 15,
   "metadata": {},
   "outputs": [
    {
     "name": "stdout",
     "output_type": "stream",
     "text": [
      "[1, 4, 9, 16, 25]\n"
     ]
    }
   ],
   "source": [
    "nums = [1, 2, 3, 4, 5]\n",
    "squared_nums = list(map(lambda x: x ** 2, nums))\n",
    "print(squared_nums)  # Output: [1, 4, 9, 16, 25]"
   ]
  },
  {
   "cell_type": "code",
   "execution_count": 29,
   "metadata": {},
   "outputs": [
    {
     "name": "stdout",
     "output_type": "stream",
     "text": [
      "[1, 4, 4, 9, 9, 16, 25] <class 'list'>\n",
      "(1, 4, 4, 9, 9, 16, 25) <class 'tuple'>\n",
      "{1, 4, 9, 16, 25} <class 'set'>\n"
     ]
    }
   ],
   "source": [
    "nums = [1, 2,2,3,3, 4, 5]\n",
    "squared_list = list(map(lambda x: x ** 2, nums))\n",
    "squared_tup = tuple(map(lambda x: x ** 2, nums))\n",
    "squared_set = set(map(lambda x: x ** 2, nums))\n",
    "\n",
    "print(squared_list, type(squared_list))\n",
    "print(squared_tup, type(squared_tup)) \n",
    "print(squared_set, type(squared_set))\n"
   ]
  },
  {
   "cell_type": "code",
   "execution_count": 20,
   "metadata": {},
   "outputs": [
    {
     "name": "stdout",
     "output_type": "stream",
     "text": [
      "[1, 4, 9, 16, 25]\n"
     ]
    }
   ],
   "source": [
    "nums = [1, 2, 3, 4, 5]\n",
    "squared_nums = lambda *x: [(y**2) for y in x]\n",
    "print(squared_nums(1, 2, 3, 4, 5))"
   ]
  },
  {
   "cell_type": "code",
   "execution_count": 28,
   "metadata": {},
   "outputs": [
    {
     "name": "stdout",
     "output_type": "stream",
     "text": [
      "[2, 4, 6]\n"
     ]
    }
   ],
   "source": [
    "nums = [1, 2, 3, 4, 5, 6]\n",
    "evens = list(filter(lambda x: x % 2 == 0, nums))\n",
    "print(evens) "
   ]
  },
  {
   "cell_type": "code",
   "execution_count": 30,
   "metadata": {},
   "outputs": [
    {
     "name": "stdout",
     "output_type": "stream",
     "text": [
      "24\n"
     ]
    }
   ],
   "source": [
    "from functools import reduce\n",
    "\n",
    "nums = [1, 2, 3, 4]\n",
    "product = reduce(lambda x, y: x * y, nums)\n",
    "print(product) "
   ]
  },
  {
   "cell_type": "code",
   "execution_count": 39,
   "metadata": {},
   "outputs": [
    {
     "name": "stdout",
     "output_type": "stream",
     "text": [
      "[(9, 'Banana'), (2, 'Cherry'), (18, 'Zpple')]\n"
     ]
    }
   ],
   "source": [
    "data = [(18, \"Zpple\"), (9, \"Banana\"), (2, \"Cherry\")]\n",
    "sorted_data = sorted(data, key=lambda x: x[1])\n",
    "print(sorted_data)"
   ]
  },
  {
   "cell_type": "code",
   "execution_count": 48,
   "metadata": {},
   "outputs": [
    {
     "name": "stdout",
     "output_type": "stream",
     "text": [
      "[('a', 1), ('c', 3), ('b', 5)]\n"
     ]
    }
   ],
   "source": [
    "my_dict = {\"a\": 1, \"b\": 5, \"c\": 3}\n",
    "# print(my_dict.items())\n",
    "short_dict = sorted(my_dict.items(), key=lambda x: x[1])\n",
    "print(short_dict)"
   ]
  },
  {
   "cell_type": "code",
   "execution_count": 51,
   "metadata": {},
   "outputs": [
    {
     "name": "stdout",
     "output_type": "stream",
     "text": [
      "[2, 4, 6, 8, 10]\n"
     ]
    }
   ],
   "source": [
    "nums = [1, 2, 3, 4, 5]\n",
    "doubled = [(lambda x: x * 2)(x) for x in nums]\n",
    "print(doubled)"
   ]
  },
  {
   "cell_type": "code",
   "execution_count": 68,
   "metadata": {},
   "outputs": [],
   "source": [
    "def fact(x):\n",
    "    print(x, x-1)\n",
    "    if x==0 or x==1:\n",
    "        return 1\n",
    "    return x * fact(x-1)"
   ]
  },
  {
   "cell_type": "code",
   "execution_count": 69,
   "metadata": {},
   "outputs": [
    {
     "name": "stdout",
     "output_type": "stream",
     "text": [
      "5 4\n",
      "4 3\n",
      "3 2\n",
      "2 1\n",
      "1 0\n"
     ]
    },
    {
     "data": {
      "text/plain": [
       "120"
      ]
     },
     "execution_count": 69,
     "metadata": {},
     "output_type": "execute_result"
    }
   ],
   "source": [
    "fact(5)"
   ]
  },
  {
   "cell_type": "code",
   "execution_count": 75,
   "metadata": {},
   "outputs": [],
   "source": [
    "def prime_num(a):\n",
    "    result = [\"prime\" if i > 1 and all(i % j != 0 for j in range(2, int(i ** 0.5) + 1)) else \"not prime\" for i in a]\n",
    "    print(result)\n"
   ]
  },
  {
   "cell_type": "code",
   "execution_count": 80,
   "metadata": {},
   "outputs": [],
   "source": [
    "def is_prime(n):\n",
    "    if n <= 1:\n",
    "        return False\n",
    "    for i in range(2, int(n ** 0.5) + 1):\n",
    "        if n % i == 0:\n",
    "            return False\n",
    "    return True"
   ]
  },
  {
   "cell_type": "code",
   "execution_count": 87,
   "metadata": {},
   "outputs": [
    {
     "data": {
      "text/plain": [
       "True"
      ]
     },
     "execution_count": 87,
     "metadata": {},
     "output_type": "execute_result"
    }
   ],
   "source": [
    "is_prime(2)"
   ]
  },
  {
   "cell_type": "code",
   "execution_count": 77,
   "metadata": {},
   "outputs": [
    {
     "name": "stdout",
     "output_type": "stream",
     "text": [
      "['not prime', 'prime', 'prime', 'not prime', 'prime', 'not prime', 'not prime', 'prime', 'not prime', 'not prime', 'not prime', 'prime', 'prime', 'prime', 'not prime', 'prime', 'prime', 'prime']\n"
     ]
    }
   ],
   "source": [
    "a = [1, 2, 3, 4, 5, 6, 6, 7, 8, 8, 4, 5, 5, 3, 42, 3, 23, 2]\n",
    "prime_num(a)"
   ]
  },
  {
   "cell_type": "code",
   "execution_count": 15,
   "metadata": {},
   "outputs": [
    {
     "name": "stdout",
     "output_type": "stream",
     "text": [
      "3\n",
      "[1, 3, 12, 5]\n",
      "[0, 0, 0, 1, 3, 12, 5]\n"
     ]
    }
   ],
   "source": [
    "# Input list\n",
    "lst = [0, 1, 0, 3, 12, 0, 5]\n",
    "\n",
    "# Step 1: Remove all zeroes from the list\n",
    "zero_count = lst.count(0)\n",
    "print(zero_count)\n",
    "lst = [num for num in lst if num != 0]\n",
    "print(lst)\n",
    "# Step 2: Append zeroes at the end\n",
    "# print(lst.extend([0] * zero_count))\n",
    "# print([0] * zero_count + lst)"
   ]
  },
  {
   "cell_type": "code",
   "execution_count": 20,
   "metadata": {},
   "outputs": [
    {
     "name": "stdout",
     "output_type": "stream",
     "text": [
      "deque(['Alice', 'Bob', 'Charlie'])\n",
      "Alice\n",
      "deque(['Bob', 'Charlie'])\n"
     ]
    }
   ],
   "source": [
    "from collections import deque\n",
    "\n",
    "queue = deque()\n",
    "\n",
    "queue.append(\"Alice\")\n",
    "queue.append(\"Bob\")\n",
    "queue.append(\"Charlie\")\n",
    "print(queue)\n",
    "print(queue.popleft())  # Removes 'Alice'\n",
    "print(queue)"
   ]
  },
  {
   "cell_type": "code",
   "execution_count": 30,
   "metadata": {},
   "outputs": [
    {
     "name": "stdout",
     "output_type": "stream",
     "text": [
      "dict_items([(3, 3), (1, 3), (2, 2), (4, 1)])\n"
     ]
    }
   ],
   "source": [
    "from collections import Counter\n",
    "\n",
    "nums = [3, 1, 2, 3, 4, 3, 2, 1, 1]\n",
    "\n",
    "freq = Counter(nums)\n",
    "print(freq.items())\n"
   ]
  },
  {
   "cell_type": "code",
   "execution_count": 61,
   "metadata": {},
   "outputs": [
    {
     "name": "stdout",
     "output_type": "stream",
     "text": [
      "a2c2b2d1e3\n",
      "Counter({'e': 3, 'a': 2, 'c': 2, 'b': 2, 'd': 1})\n"
     ]
    },
    {
     "data": {
      "text/plain": [
       "collections.Counter"
      ]
     },
     "execution_count": 61,
     "metadata": {},
     "output_type": "execute_result"
    }
   ],
   "source": [
    "from collections import Counter\n",
    "\n",
    "S= \"aaccbbdeee\"\n",
    "# Output: \"a2b2c1d1e3\"\n",
    "cnt_str = Counter(S)\n",
    "result = ''.join(f\"{i}{cnt_str[i]}\" for i in cnt_str)\n",
    "# compressed = ''.join(f\"{char}{freq_count[char]}\" for char in freq_count)\n",
    "\n",
    "\n",
    "print(result)\n",
    "print(cnt_str)\n",
    "type(cnt_str)"
   ]
  },
  {
   "cell_type": "code",
   "execution_count": 112,
   "metadata": {},
   "outputs": [
    {
     "name": "stdout",
     "output_type": "stream",
     "text": [
      "a2b2c1d1e3\n"
     ]
    }
   ],
   "source": [
    "from collections import Counter\n",
    "\n",
    "def compress_string(s):\n",
    "    # Count occurrences of each character\n",
    "    freq_count = Counter(s)\n",
    "    \n",
    "    # Build the modified string\n",
    "    compressed = ''.join(f\"{char}{freq_count[char]}\" for char in freq_count)\n",
    "    \n",
    "    return compressed\n",
    "\n",
    "# Example usage\n",
    "s = \"aabbcdeee\"\n",
    "result = compress_string(s)\n",
    "print(result)"
   ]
  },
  {
   "cell_type": "code",
   "execution_count": 102,
   "metadata": {},
   "outputs": [
    {
     "name": "stdout",
     "output_type": "stream",
     "text": [
      "{9: 0}\n",
      "{9: 0, 11: 1}\n",
      "{9: 0, 11: 1, 15: 2}\n",
      "{9: 0, 11: 1, 15: 2, 4: 3}\n",
      "{9: 0, 11: 1, 15: 2, 4: 3, 5: 4}\n",
      "{9: 0, 11: 1, 15: 2, 4: 3, 5: 4, 1: 5}\n",
      "{9: 0, 11: 1, 15: 2, 4: 3, 5: 6, 1: 5}\n",
      "{9: 0, 11: 1, 15: 2, 4: 3, 5: 6, 1: 5, 6: 7}\n",
      "{9: 0, 11: 1, 15: 2, 4: 3, 5: 6, 1: 5, 6: 7, 7: 8}\n",
      "{9: 0, 11: 1, 15: 2, 4: 3, 5: 6, 1: 5, 6: 7, 7: 8, 8: 9}\n",
      "{9: 0, 11: 1, 15: 2, 4: 3, 5: 6, 1: 5, 6: 7, 7: 8, 8: 9, 3: 10}\n",
      "{9: 0, 11: 1, 15: 2, 4: 3, 5: 6, 1: 5, 6: 11, 7: 8, 8: 9, 3: 10}\n",
      "{9: 0, 11: 1, 15: 2, 4: 3, 5: 6, 1: 5, 6: 11, 7: 8, 8: 12, 3: 10}\n",
      "Pair with target sum 10: [(9, 1), (5, 5), (4, 6), (7, 3), (4, 6)]\n"
     ]
    }
   ],
   "source": [
    "def find_pair(nums, target):\n",
    "    # Create a dictionary to store seen numbers\n",
    "    seen = {}\n",
    "    result = []\n",
    "\n",
    "    # Iterate through the list\n",
    "    for i, num in enumerate(nums):\n",
    "        # Calculate the difference needed to reach the target\n",
    "        diff = target - num\n",
    "        \n",
    "        # Check if the difference is already seen\n",
    "        if diff in seen:\n",
    "            result.append((diff, num))\n",
    "      \n",
    "        \n",
    "        # Store the current number in the dictionary\n",
    "        seen[num] = i\n",
    "        print(seen)\n",
    "\n",
    "    # Return None if no pair is found\n",
    "    return result if result else None\n",
    "\n",
    "# Test with an unsorted list\n",
    "nums = [9, 11, 15,4,5,1,5,6,7,8,3, 6, 8]\n",
    "target = 10\n",
    "result = find_pair(nums, target)\n",
    "print(f\"Pair with target sum {target}: {result}\")"
   ]
  },
  {
   "cell_type": "code",
   "execution_count": 117,
   "metadata": {},
   "outputs": [
    {
     "name": "stdout",
     "output_type": "stream",
     "text": [
      "0 9\n",
      "1 11\n",
      "2 15\n",
      "3 4\n"
     ]
    }
   ],
   "source": [
    "def find_pair(nums):\n",
    "    # Create a dictionary to store seen numbers\n",
    "    seen = {}\n",
    "    result = []\n",
    "\n",
    "    # Iterate through the list\n",
    "    for i, num in enumerate(nums):\n",
    "        print(i, num)\n",
    "    return None\n",
    "\n",
    "find_pair([9, 11, 15,4])"
   ]
  }
 ],
 "metadata": {
  "kernelspec": {
   "display_name": "Python 3",
   "language": "python",
   "name": "python3"
  },
  "language_info": {
   "codemirror_mode": {
    "name": "ipython",
    "version": 3
   },
   "file_extension": ".py",
   "mimetype": "text/x-python",
   "name": "python",
   "nbconvert_exporter": "python",
   "pygments_lexer": "ipython3",
   "version": "3.11.10"
  }
 },
 "nbformat": 4,
 "nbformat_minor": 2
}
