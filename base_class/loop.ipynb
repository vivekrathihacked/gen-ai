{
 "cells": [
  {
   "cell_type": "code",
   "execution_count": 1,
   "metadata": {},
   "outputs": [
    {
     "name": "stdout",
     "output_type": "stream",
     "text": [
      "2\n",
      "3\n",
      "4\n",
      "5\n",
      "6\n",
      "7\n",
      "8\n",
      "9\n"
     ]
    }
   ],
   "source": [
    "for i in range(2,10):\n",
    "    print(i)"
   ]
  },
  {
   "cell_type": "code",
   "execution_count": 2,
   "metadata": {},
   "outputs": [
    {
     "name": "stdout",
     "output_type": "stream",
     "text": [
      "2\n",
      "4\n",
      "6\n",
      "8\n"
     ]
    }
   ],
   "source": [
    "for i in range(2,10,2):\n",
    "    print(i)"
   ]
  },
  {
   "cell_type": "code",
   "execution_count": 4,
   "metadata": {},
   "outputs": [
    {
     "name": "stdout",
     "output_type": "stream",
     "text": [
      "K1 1\n",
      "K2 9\n",
      "K3 10\n",
      "K4 1\n"
     ]
    }
   ],
   "source": [
    "dict_t = {'K1':1,'K2':9,'K3':10,'K4':1}\n",
    "\n",
    "for i, j in dict_t.items():\n",
    "    print(i,j)"
   ]
  },
  {
   "cell_type": "code",
   "execution_count": 15,
   "metadata": {},
   "outputs": [
    {
     "name": "stdout",
     "output_type": "stream",
     "text": [
      "i 1\n",
      "n 2\n",
      "d 3\n",
      "i 4\n",
      "a 5\n"
     ]
    }
   ],
   "source": [
    "j = 30\n",
    "a = 'india'\n",
    "n1=0\n",
    "\n",
    "for i in a:\n",
    "    n1 = n1+1\n",
    "    print(i,n1)\n",
    "    if j==30:\n",
    "        # break\n",
    "        pass\n"
   ]
  },
  {
   "cell_type": "code",
   "execution_count": 16,
   "metadata": {},
   "outputs": [
    {
     "name": "stdout",
     "output_type": "stream",
     "text": [
      "i 1\n",
      "n 2\n",
      "d 3\n"
     ]
    }
   ],
   "source": [
    "j = 30\n",
    "a = 'india'\n",
    "n1=0\n",
    "\n",
    "for i in a[:3]:\n",
    "    n1 = n1+1\n",
    "    print(i,n1)\n",
    "    if j==30:\n",
    "        # break\n",
    "        pass\n"
   ]
  },
  {
   "cell_type": "code",
   "execution_count": 38,
   "metadata": {},
   "outputs": [
    {
     "name": "stdout",
     "output_type": "stream",
     "text": [
      "i\n",
      "n\n",
      "d\n"
     ]
    }
   ],
   "source": [
    "j = 30\n",
    "a = 'india'\n",
    "\n",
    "for i,c in enumerate(a):\n",
    "    if i == 3:\n",
    "        break \n",
    "    print(c)  "
   ]
  },
  {
   "cell_type": "code",
   "execution_count": 85,
   "metadata": {},
   "outputs": [
    {
     "name": "stdout",
     "output_type": "stream",
     "text": [
      "4 [11, 12, 13, 4, 5, 6]\n"
     ]
    }
   ],
   "source": [
    "A = [1,2,3,4,5,6]\n",
    "i=0\n",
    "for j in A:\n",
    "    if j>3:\n",
    "        break\n",
    "    A[i] = j+10\n",
    "    i=i+1\n",
    "print(j, A)"
   ]
  },
  {
   "cell_type": "code",
   "execution_count": null,
   "metadata": {},
   "outputs": [],
   "source": []
  }
 ],
 "metadata": {
  "kernelspec": {
   "display_name": "Python 3",
   "language": "python",
   "name": "python3"
  },
  "language_info": {
   "codemirror_mode": {
    "name": "ipython",
    "version": 3
   },
   "file_extension": ".py",
   "mimetype": "text/x-python",
   "name": "python",
   "nbconvert_exporter": "python",
   "pygments_lexer": "ipython3",
   "version": "3.11.10"
  }
 },
 "nbformat": 4,
 "nbformat_minor": 2
}
